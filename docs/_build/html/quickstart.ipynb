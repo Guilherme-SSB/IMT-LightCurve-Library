{
 "cells": [
  {
   "cell_type": "markdown",
   "metadata": {},
   "source": [
    "# Quickstart"
   ]
  },
  {
   "cell_type": "code",
   "execution_count": 1,
   "metadata": {},
   "outputs": [
    {
     "name": "stdout",
     "output_type": "stream",
     "text": [
      "Processing c:\\users\\guisa\\desktop\\imt-lightcurve\\dist\\imt_lightcurve-1.0-py3-none-any.whl\n",
      "imt-lightcurve is already installed with the same version as the provided wheel. Use --force-reinstall to force an installation of the wheel.\n"
     ]
    }
   ],
   "source": [
    "!pip install C:\\Users\\guisa\\Desktop\\IMT-LightCurve\\dist\\imt_lightcurve-1.0-py3-none-any.whl"
   ]
  },
  {
   "cell_type": "code",
   "execution_count": null,
   "metadata": {},
   "outputs": [],
   "source": [
    "from imt_lightcurve.models.lightcurve import LightCurve"
   ]
  },
  {
   "cell_type": "code",
   "execution_count": null,
   "metadata": {},
   "outputs": [],
   "source": [
    "curve = LightCurve([1, 2, 3], [1, 2, 3])"
   ]
  }
 ],
 "metadata": {
  "interpreter": {
   "hash": "42212eefd821b9529c49b7b394248ba16436095b1cab147b68398feb41c1e4c9"
  },
  "kernelspec": {
   "display_name": "Python 3.8.7 64-bit ('venv': venv)",
   "name": "python3"
  },
  "language_info": {
   "codemirror_mode": {
    "name": "ipython",
    "version": 3
   },
   "file_extension": ".py",
   "mimetype": "text/x-python",
   "name": "python",
   "nbconvert_exporter": "python",
   "pygments_lexer": "ipython3",
   "version": "3.8.7"
  }
 },
 "nbformat": 4,
 "nbformat_minor": 2
}
